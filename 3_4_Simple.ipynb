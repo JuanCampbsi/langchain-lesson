{
 "cells": [
  {
   "cell_type": "markdown",
   "metadata": {
    "editable": true,
    "slideshow": {
     "slide_type": ""
    },
    "tags": []
   },
   "source": [
    "# Setup\n"
   ]
  },
  {
   "cell_type": "code",
   "execution_count": 1,
   "metadata": {
    "editable": true,
    "id": "vOISp5PYq4qi",
    "slideshow": {
     "slide_type": ""
    },
    "tags": []
   },
   "outputs": [],
   "source": [
    "from langchain_openai import OpenAI\n",
    "from langchain.prompts import PromptTemplate\n",
    "import yaml\n",
    "import os"
   ]
  },
  {
   "cell_type": "code",
   "execution_count": 2,
   "metadata": {},
   "outputs": [],
   "source": [
    "with open('config.yaml', 'r') as config_file:\n",
    "    config = yaml.safe_load(config_file)\n",
    "os.environ['OPENAI_API_KEY'] = config['OPENAI_API_KEY']"
   ]
  },
  {
   "cell_type": "code",
   "execution_count": 3,
   "metadata": {},
   "outputs": [],
   "source": [
    "openai = OpenAI(model_name='gpt-3.5-turbo-instruct', temperature=0)"
   ]
  },
  {
   "cell_type": "markdown",
   "metadata": {},
   "source": [
    "# Simple\n"
   ]
  },
  {
   "cell_type": "code",
   "execution_count": 4,
   "metadata": {
    "colab": {
     "base_uri": "https://localhost:8080/"
    },
    "id": "959301hQh_yi",
    "outputId": "5401a17d-f579-4ae0-b9c4-0994b05cfe7a"
   },
   "outputs": [],
   "source": [
    "prompt_template = PromptTemplate.from_template(\"Descreva as tendências tecnológicas em {ano}.\")\n",
    "runnable_sequence = prompt_template | openai\n",
    "output = runnable_sequence.invoke({\"ano\": \"2024\"})"
   ]
  },
  {
   "cell_type": "code",
   "execution_count": 5,
   "metadata": {},
   "outputs": [
    {
     "name": "stdout",
     "output_type": "stream",
     "text": [
      "Output:\n",
      " \n",
      "\n",
      "1. Inteligência Artificial (IA) avançada: A IA continuará a evoluir e se tornará ainda mais sofisticada em 2024. Com o aumento do poder de processamento e o desenvolvimento de algoritmos mais avançados, a IA será capaz de realizar tarefas cada vez mais complexas e se tornará uma parte integrante de muitos aspectos de nossas vidas.\n",
      "\n",
      "2. Internet das Coisas (IoT): A IoT continuará a crescer e se expandir, conectando cada vez mais dispositivos e objetos à internet. Isso permitirá uma maior automação e controle remoto de vários dispositivos, tornando nossas casas e cidades mais inteligentes e eficientes.\n",
      "\n",
      "3. Realidade Virtual (VR) e Realidade Aumentada (AR): A tecnologia de VR e AR continuará a evoluir e se tornará mais acessível e amplamente utilizada em vários setores, como jogos, educação, saúde e negócios. Isso permitirá experiências imersivas e interativas em um nível totalmente novo.\n",
      "\n",
      "4. 5G: A tecnologia de rede 5\n"
     ]
    }
   ],
   "source": [
    "print(\"Output:\\n\", output)"
   ]
  }
 ],
 "metadata": {
  "colab": {
   "provenance": []
  },
  "kernelspec": {
   "display_name": "Python 3 (ipykernel)",
   "language": "python",
   "name": "python3"
  },
  "language_info": {
   "codemirror_mode": {
    "name": "ipython",
    "version": 3
   },
   "file_extension": ".py",
   "mimetype": "text/x-python",
   "name": "python",
   "nbconvert_exporter": "python",
   "pygments_lexer": "ipython3",
   "version": "3.11.9"
  }
 },
 "nbformat": 4,
 "nbformat_minor": 4
}
